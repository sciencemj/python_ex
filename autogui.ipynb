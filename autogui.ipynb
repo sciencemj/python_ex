{
    "cells": [
        {
            "cell_type": "code",
            "execution_count": null,
            "source": [
                "import pyautogui\n",
                "import keyboard\n",
                "import time\n",
                "\n",
                "while 1:\n",
                "    pos = pyautogui.position()\n",
                "    if keyboard.is_pressed('e'):\n",
                "        print(pos)\n",
                "        time.sleep(0.1)\n"
            ],
            "outputs": [],
            "metadata": {}
        }
    ],
    "metadata": {
        "orig_nbformat": 4,
        "language_info": {
            "name": "python"
        }
    },
    "nbformat": 4,
    "nbformat_minor": 2
}